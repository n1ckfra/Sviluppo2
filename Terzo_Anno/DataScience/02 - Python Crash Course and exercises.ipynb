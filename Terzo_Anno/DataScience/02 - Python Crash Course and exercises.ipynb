{
 "cells": [
  {
   "cell_type": "markdown",
   "metadata": {},
   "source": [
    "# Python Crash Course\n",
    "\n",
    "![](https://imgs.xkcd.com/comics/python.png)\n",
    "\n",
    "(Note: in python 3, Hello World is `print(\"Hello, world!\")`, with the parenthesis.)"
   ]
  },
  {
   "cell_type": "markdown",
   "metadata": {},
   "source": [
    "## Instructions\n",
    "Write the Python program in the cell below the exercise text (or create a new one using the \"+\" button in the top left). Always print the final result to the screen to verify the correctness of the exercise. Sometimes we recall some important concepts in a code cell below the exercise text, try running it and possibly modifying it to make sure you've understood the necessary points.\n",
    "\n",
    "Tip: to run a code cell, press `CTRL+Enter` while the cell is selected.\n",
    "\n",
    "Remember: all previously assigned variables remain in memory! If you wish, you can reset the memory state by running from the menu above: `Kernel -> Restart & Clear Outputs`.\n",
    "\n",
    "## Submission\n",
    "For all exercises, it is mandatory to **submit the solution to all exercises** (except those marked as optional) **before the start of the next lesson**, in the appropriate assignment on iCorsi. To submit:\n",
    "- Run the entire notebook from the beginning (`Kernel -> Restart & Run All`), and check that the solutions are as expected;\n",
    "- Export the notebook in HTML format (`File -> Download as...`) and submit the resulting file.\n",
    "\n",
    "If you were unable to complete one or more exercises, describe the issue encountered and **submit the file with the rest of the solutions** anyway.\n",
    "\n",
    "## Solutions\n",
    "During the next lesson, the solutions to the exercises will be published (and possibly discussed). Always review them and compare them with yours. If something is unclear, contact the instructors via email.\n",
    "\n",
    "## Where to look for help\n",
    "Almost everything we need is written somewhere in here: [Python tutorial](https://docs.python.org/3.10/tutorial/index.html). Particularly of interest for now: [Basics](https://docs.python.org/3.10/tutorial/introduction.html), [Control Flow](https://docs.python.org/3.10/tutorial/controlflow.html) (if, for, while...), [Data Structures](https://docs.python.org/3.10/tutorial/datastructures.html) (lists, sets, dicts). [Here](https://docs.python.org/3.10/tutorial/inputoutput.html#fancier-output-formatting) you can find a lot of info on string formatting. If needed, [here](https://docs.python.org/3.10/library/index.html) is the full documentation of the standard library. To search for a keyword in the documentation, use the quick search box in the top right.\n",
    "\n",
    "Or use Google. Be careful in this case that we are using Python 3. Until a few years ago, Python 2 was still more common, so you may find some suggestions for that version. For example, in Python 2, `print` did not need parentheses.\n",
    "\n",
    "### Tips\n",
    "\n",
    "- `CTRL+ENTER`: Run the current cell\n",
    "- `Kernel > Restart kernel and clear all outputs...`: resets the notebook to its initial state, forgetting all variables\n",
    "- \"Play\" icon: run this cell and continue\n",
    "- \"Stop\" icon: interrupt execution\n",
    "- \"Fast forward\" icon: reset the kernel and run the entire notebook\n",
    "- \"+\" icon: add a cell below the current one\n",
    "\n",
    "You can change the type of a cell (Markdown or code) using the appropriate dropdown (usually, it won't be necessary to do this)."
   ]
  },
  {
   "cell_type": "markdown",
   "metadata": {},
   "source": [
    "## Easy Warm-Up Exercises\n",
    "To get a bit familiar with the language.\n",
    "If you don't know how to use f-strings, read [this tutorial](https://realpython.com/python-f-strings/).\n",
    "\n",
    "### 0.1\n",
    "Ask the user for their name, then greet them."
   ]
  },
  {
   "cell_type": "code",
   "execution_count": 12,
   "metadata": {},
   "outputs": [
    {
     "name": "stdout",
     "output_type": "stream",
     "text": [
      "The answer is \n"
     ]
    }
   ],
   "source": [
    "# Hints\n",
    "answer = input(\"Question? \") # Get input (string) from user\n",
    "print(f\"The answer is {answer}\") # Format a string"
   ]
  },
  {
   "cell_type": "code",
   "execution_count": 13,
   "metadata": {},
   "outputs": [
    {
     "name": "stdout",
     "output_type": "stream",
     "text": [
      "Welcome dear \n"
     ]
    }
   ],
   "source": [
    "# Solution\n",
    "userName = input(\"What is your name? : \")\n",
    "print(f\"Welcome dear {userName}\")"
   ]
  },
  {
   "cell_type": "markdown",
   "metadata": {},
   "source": [
    "### 0.2\n",
    "Greet the user N times, where N is decided by the user.\n"
   ]
  },
  {
   "cell_type": "code",
   "execution_count": 14,
   "metadata": {},
   "outputs": [
    {
     "name": "stdout",
     "output_type": "stream",
     "text": [
      "<class 'str'> <class 'int'>\n",
      "0\n",
      "1\n",
      "2\n",
      "3\n",
      "4\n"
     ]
    }
   ],
   "source": [
    "# Hints\n",
    "string_variable = \"5\"\n",
    "integer_variable = int(string_variable) # cast\n",
    "print(type(string_variable), type(integer_variable))\n",
    "\n",
    "# this works...\n",
    "for i in range(integer_variable):\n",
    "    print(i)\n",
    "    \n",
    "# this does not work!\n",
    "#for i in range(string_variable):\n",
    "#    print(i)"
   ]
  },
  {
   "cell_type": "code",
   "execution_count": 15,
   "metadata": {},
   "outputs": [
    {
     "ename": "ValueError",
     "evalue": "invalid literal for int() with base 10: ''",
     "output_type": "error",
     "traceback": [
      "\u001b[0;31m---------------------------------------------------------------------------\u001b[0m",
      "\u001b[0;31mValueError\u001b[0m                                Traceback (most recent call last)",
      "Cell \u001b[0;32mIn[15], line 4\u001b[0m\n\u001b[1;32m      2\u001b[0m userName \u001b[38;5;241m=\u001b[39m \u001b[38;5;28minput\u001b[39m(\u001b[38;5;124m\"\u001b[39m\u001b[38;5;124mWhat is your name? : \u001b[39m\u001b[38;5;124m\"\u001b[39m)\n\u001b[1;32m      3\u001b[0m iteration \u001b[38;5;241m=\u001b[39m \u001b[38;5;28minput\u001b[39m(\u001b[38;5;124m\"\u001b[39m\u001b[38;5;124mHow many times would you like to be greeted? : \u001b[39m\u001b[38;5;124m\"\u001b[39m)\n\u001b[0;32m----> 4\u001b[0m int_iteration \u001b[38;5;241m=\u001b[39m \u001b[38;5;28;43mint\u001b[39;49m\u001b[43m(\u001b[49m\u001b[43miteration\u001b[49m\u001b[43m)\u001b[49m \u001b[38;5;66;03m# cast to integer to be used in the for loop\u001b[39;00m\n\u001b[1;32m      5\u001b[0m \u001b[38;5;28;01mfor\u001b[39;00m i \u001b[38;5;129;01min\u001b[39;00m \u001b[38;5;28mrange\u001b[39m(int_iteration):\n\u001b[1;32m      6\u001b[0m     \u001b[38;5;28mprint\u001b[39m(\u001b[38;5;124mf\u001b[39m\u001b[38;5;124m\"\u001b[39m\u001b[38;5;124mWelcome dear \u001b[39m\u001b[38;5;132;01m{\u001b[39;00muserName\u001b[38;5;132;01m}\u001b[39;00m\u001b[38;5;124m\"\u001b[39m)\n",
      "\u001b[0;31mValueError\u001b[0m: invalid literal for int() with base 10: ''"
     ]
    }
   ],
   "source": [
    "# Solution\n",
    "userName = input(\"What is your name? : \")\n",
    "iteration = input(\"How many times would you like to be greeted? : \")\n",
    "int_iteration = int(iteration) # cast to integer to be used in the for loop\n",
    "for i in range(int_iteration):\n",
    "    print(f\"Welcome dear {userName}\")"
   ]
  },
  {
   "cell_type": "markdown",
   "metadata": {},
   "source": [
    "### 0.3\n",
    "Print a 5x5 matrix like this, using two nested for loops.\n",
    "```\n",
    "1  2  3  4  5\n",
    "2  4  6  8 10\n",
    "3  6  9 12 15\n",
    "4  8 12 16 20\n",
    "5 10 15 20 25\n",
    "```"
   ]
  },
  {
   "cell_type": "code",
   "execution_count": 7,
   "metadata": {},
   "outputs": [
    {
     "name": "stdout",
     "output_type": "stream",
     "text": [
      "1 2\n",
      "1\t2\t3\t4\n",
      "a = 2; b = 3; a + b = 5\n"
     ]
    }
   ],
   "source": [
    "# Hints\n",
    "print(\"1 \", end=\"\") # Does not print the newline at the end\n",
    "print(\"2\") # By default prints the newline at the end\n",
    "print(\"1\\t2\\t3\\t4\") # \\t is a tab character, like in Java\n",
    "a = 2\n",
    "b = 3\n",
    "print(f\"a = {a}; b = {b}; a + b = {a+b}\") # Inside {} you can put any expression!\n"
   ]
  },
  {
   "cell_type": "code",
   "execution_count": 19,
   "metadata": {},
   "outputs": [
    {
     "name": "stdout",
     "output_type": "stream",
     "text": [
      " 1  2  3  4  5 \n",
      " 2  4  6  8 10 \n",
      " 3  6  9 12 15 \n",
      " 4  8 12 16 20 \n",
      " 5 10 15 20 25 \n"
     ]
    }
   ],
   "source": [
    "# Define the size of the matrix\n",
    "rows = 5\n",
    "columns = 5\n",
    "\n",
    "# Loop through rows and columns to print the matrix\n",
    "for i in range(1, rows + 1):  # Start rows from 1\n",
    "    for j in range(1, columns + 1):  # Start columns from 1\n",
    "        print(f\"{i * j:2}\", end=\" \")  # Print the product of the row and column indices\n",
    "    print()  # Move to the next line after each row"
   ]
  },
  {
   "cell_type": "markdown",
   "metadata": {},
   "source": [
    "### 0.4 Fizz\n",
    "Print the numbers from 1 to 20, one per line. But if the number is divisible by 3, print \"Fizz\" instead of the number. Use the `%` operator to get the remainder of the division between two integers, as in Java. If you want, learn the functionalities of `range` by reading its [documentation](https://docs.python.org/3.6/library/stdtypes.html?highlight=range#range) (especially the examples)."
   ]
  },
  {
   "cell_type": "code",
   "execution_count": 21,
   "metadata": {},
   "outputs": [
    {
     "name": "stdout",
     "output_type": "stream",
     "text": [
      "1\n",
      "2\n",
      "Fizz\n",
      "4\n",
      "5\n",
      "Fizz\n",
      "7\n",
      "8\n",
      "Fizz\n",
      "10\n",
      "11\n",
      "Fizz\n",
      "13\n",
      "14\n",
      "Fizz\n",
      "16\n",
      "17\n",
      "Fizz\n",
      "19\n",
      "20\n"
     ]
    }
   ],
   "source": [
    "# Solution\n",
    "for i in range(1, 21):\n",
    "    if i % 3 == 0:\n",
    "        print(f\"Fizz\")\n",
    "    else:\n",
    "        print(i)"
   ]
  },
  {
   "cell_type": "markdown",
   "metadata": {},
   "source": [
    "### 0.5 Fizz Buzz\n",
    "![](https://cdn-images-1.medium.com/max/1600/1*lPfdDAivK_QNzqknqLCP8w.png)\n",
    "\n",
    "Print the numbers from 1 to 20, one per line. But:\n",
    "- if the number is divisible by 3, print `Fizz!` instead of the number;\n",
    "- if the number is divisible by 5, print `Buzz!` instead of the number;\n",
    "- if the number is divisible by both 3 and 5, print `FizzBuzz!` instead of the number.\n",
    "\n",
    "It seems simple, but [don't take it too much for granted](https://blog.codinghorror.com/why-cant-programmers-program/).\n"
   ]
  },
  {
   "cell_type": "code",
   "execution_count": null,
   "metadata": {},
   "outputs": [],
   "source": [
    "# Hint\n",
    "a = 5\n",
    "if (a > 3) and (a < 7):\n",
    "    print(\"Yes\")\n",
    "else:\n",
    "    print(\"No\")"
   ]
  },
  {
   "cell_type": "code",
   "execution_count": 25,
   "metadata": {},
   "outputs": [
    {
     "name": "stdout",
     "output_type": "stream",
     "text": [
      "1\n",
      "2\n",
      "Fizz!\n",
      "4\n",
      "Buzz!\n",
      "Fizz!\n",
      "7\n",
      "8\n",
      "Fizz!\n",
      "Buzz!\n",
      "11\n",
      "Fizz!\n",
      "13\n",
      "14\n",
      "FizzBuzz!\n",
      "16\n",
      "17\n",
      "Fizz!\n",
      "19\n",
      "Buzz!\n"
     ]
    }
   ],
   "source": [
    "# Solution\n",
    "for i in range(1, 21):\n",
    "    if (i % 3 == 0) and (i % 5 == 0):\n",
    "        print(f\"FizzBuzz!\")\n",
    "    elif i % 5 == 0:\n",
    "        print(f\"Buzz!\")\n",
    "    elif i % 3 == 0:\n",
    "        print(f\"Fizz!\")\n",
    "    else:\n",
    "        print(i)"
   ]
  },
  {
   "cell_type": "markdown",
   "metadata": {},
   "source": [
    "### 0.6 f-strings\n",
    "\n",
    "Complete the cell below (read the documentation on f-strings!) so that it prints:\n",
    "```\n",
    "We are traveling at 98.13 km/h (81.8% of the maximum speed)\n",
    "```"
   ]
  },
  {
   "cell_type": "code",
   "execution_count": 30,
   "metadata": {},
   "outputs": [
    {
     "name": "stdout",
     "output_type": "stream",
     "text": [
      "We are traveling at 98.13 km/h (81.8% of the maximum speed)\n"
     ]
    }
   ],
   "source": [
    "max_speed = 120  # km/h\n",
    "current_speed = 98.128214\n",
    "\n",
    "# Calculate the percentage of the current speed relative to the maximum speed\n",
    "percentage = (current_speed / max_speed) * 100\n",
    "\n",
    "# Print the formatted string using f-string\n",
    "print(f\"We are traveling at {current_speed:.2f} km/h ({percentage:.1f}% of the maximum speed)\")"
   ]
  },
  {
   "cell_type": "markdown",
   "metadata": {},
   "source": [
    "## Exercise 1 (lists)\n",
    "The Fibonacci sequence is a series of integers where the first two elements are 1, and the subsequent elements are given by the sum of the two preceding ones (e.g., `[1, 1, 2, 3, 5, 8, 13, 21...]`)\n",
    "\n",
    "![Fibonacci](https://images.wired.it/wp-content/uploads/2017/11/23130621/1511435180_Fibonacci-1050x590.jpg)\n",
    "([info](https://www.wired.it/play/cultura/2017/11/23/fibonacci-day-numeri/))\n",
    "\n",
    "### 1.1\n",
    "Write a program that generates a list (which we will call `listFib`) containing the Fibonacci sequence with all numbers less than or equal to $200$ (in other words, the last element of the list should be a number less than or equal to $200$). Hint: initialize the list with the first two elements `listFib = [1, 1]` and then extend it. _How many elements does the list contain?_"
   ]
  },
  {
   "cell_type": "code",
   "execution_count": null,
   "metadata": {},
   "outputs": [],
   "source": [
    "# Hint \n",
    "list = [10, 20, 30]\n",
    "print(len(list)) # Length of the list (an int)\n",
    "\n",
    "list.append(40)  # Add element to a list \n",
    "print(list)\n",
    "\n",
    "while(True):\n",
    "    if len(list) < 6:\n",
    "        print(\"Adding an element to the list\")\n",
    "        list.append(\"New element\")\n",
    "    else:\n",
    "        print('Exiting the while loop')\n",
    "        break # Exit the while loop\n",
    "        \n",
    "print(list) # Note that the list can contain any type\n",
    "\n",
    "print(f\"The first element of the list is {list[0]}\")\n",
    "print(f\"The third-to-last element of the list is {list[-3]}\")"
   ]
  },
  {
   "cell_type": "code",
   "execution_count": null,
   "metadata": {},
   "outputs": [],
   "source": [
    "# Hint: how to iterate over a list:\n",
    "for elem in list:  # No need to define an index i!\n",
    "    print(elem)"
   ]
  },
  {
   "cell_type": "code",
   "execution_count": 7,
   "metadata": {},
   "outputs": [
    {
     "name": "stdout",
     "output_type": "stream",
     "text": [
      "[1, 1, 2, 3, 5, 8, 13, 21, 34, 55, 89, 144]\n"
     ]
    }
   ],
   "source": [
    "#Solution\n",
    "listFib = [1, 1] #first two element of fibonaci series\n",
    "\n",
    "# Populate the list, before appending element first check if limit has been reached\n",
    "while(True):\n",
    "    nextElement = listFib[-2] + listFib[-1]\n",
    "    if nextElement <= 200:\n",
    "        listFib.append(nextElement)\n",
    "    else:\n",
    "        break\n",
    "\n",
    "print(listFib)"
   ]
  },
  {
   "cell_type": "markdown",
   "metadata": {},
   "source": [
    "### 1.2\n",
    "Execute `listFib * 2` and examine the result. Do you understand what happened?\n",
    "\n",
    "And what happens if you execute `listFib * 1.5`?"
   ]
  },
  {
   "cell_type": "code",
   "execution_count": 9,
   "metadata": {},
   "outputs": [
    {
     "data": {
      "text/plain": [
       "[1,\n",
       " 1,\n",
       " 2,\n",
       " 3,\n",
       " 5,\n",
       " 8,\n",
       " 13,\n",
       " 21,\n",
       " 34,\n",
       " 55,\n",
       " 89,\n",
       " 144,\n",
       " 1,\n",
       " 1,\n",
       " 2,\n",
       " 3,\n",
       " 5,\n",
       " 8,\n",
       " 13,\n",
       " 21,\n",
       " 34,\n",
       " 55,\n",
       " 89,\n",
       " 144]"
      ]
     },
     "execution_count": 9,
     "metadata": {},
     "output_type": "execute_result"
    }
   ],
   "source": [
    "# Solution\n",
    "listFib * 2"
   ]
  },
  {
   "cell_type": "markdown",
   "metadata": {},
   "source": [
    "### 1.3\n",
    "Create a new list `listFib2`. Each element of the new list should be equal to the corresponding element of the list `listFib` multiplied by two.\n",
    "\n",
    "Hint: It is useful to initialize an empty list with the command `lista = []` (or, equivalently, `lista = list()`) and then fill it during the execution of the code with the command `lista.append(elemento)`."
   ]
  },
  {
   "cell_type": "code",
   "execution_count": 5,
   "metadata": {},
   "outputs": [
    {
     "name": "stdout",
     "output_type": "stream",
     "text": [
      "[2, 2, 4, 6, 10, 16, 26, 42, 68, 110, 178, 288]\n"
     ]
    }
   ],
   "source": [
    "# Solution\n",
    "listFib2 = []\n",
    "\n",
    "for i in range(len(listFib)):\n",
    "    listFib2.append(listFib[i] * 2)\n",
    "\n",
    "print(listFib2)"
   ]
  },
  {
   "cell_type": "markdown",
   "metadata": {},
   "source": [
    "### 1.4\n",
    "Generate a new list `listRatio` where the element at position $i$ is equal to $\\frac{listFib[i+1]}{listFib[i]}$."
   ]
  },
  {
   "cell_type": "code",
   "execution_count": 8,
   "metadata": {},
   "outputs": [
    {
     "name": "stdout",
     "output_type": "stream",
     "text": [
      "[1.0, 2.0, 1.5, 1.6666666666666667, 1.6, 1.625, 1.6153846153846154, 1.619047619047619, 1.6176470588235294, 1.6181818181818182, 1.6179775280898876]\n"
     ]
    }
   ],
   "source": [
    "# Solution\n",
    "listRatio = []\n",
    "\n",
    "for i in range(len(listFib) - 1):\n",
    "    listRatio.append(listFib[i + 1] / listFib[i])\n",
    "\n",
    "print(listRatio)"
   ]
  },
  {
   "cell_type": "markdown",
   "metadata": {},
   "source": [
    "### 1.5\n",
    "Generate a list `newList` that contains all numbers between 5 and 100 (inclusive) that do _not_ belong to the Fibonacci sequence.\n",
    "\n",
    "Hint: The `in` operator returns `True` if the element on the left is present in the list on the right; use `not in` to check if it is not present."
   ]
  },
  {
   "cell_type": "code",
   "execution_count": null,
   "metadata": {},
   "outputs": [],
   "source": [
    "# Hint\n",
    "print(1 in [1,2,3])\n",
    "print(0 in [1,2,3])\n",
    "print(0 not in [1,2,3])"
   ]
  },
  {
   "cell_type": "code",
   "execution_count": 14,
   "metadata": {},
   "outputs": [
    {
     "name": "stdout",
     "output_type": "stream",
     "text": [
      "[6, 7, 9, 10, 11, 12, 14, 15, 16, 17, 18, 19, 20, 22, 23, 24, 25, 26, 27, 28, 29, 30, 31, 32, 33, 35, 36, 37, 38, 39, 40, 41, 42, 43, 44, 45, 46, 47, 48, 49, 50, 51, 52, 53, 54, 56, 57, 58, 59, 60, 61, 62, 63, 64, 65, 66, 67, 68, 69, 70, 71, 72, 73, 74, 75, 76, 77, 78, 79, 80, 81, 82, 83, 84, 85, 86, 87, 88, 90, 91, 92, 93, 94, 95, 96, 97, 98, 99]\n"
     ]
    }
   ],
   "source": [
    "# Solution\n",
    "newList = []\n",
    "\n",
    "for i in range(5, 100):\n",
    "    if i not in listFib:\n",
    "        newList.append(i)\n",
    "\n",
    "print(newList)"
   ]
  },
  {
   "cell_type": "markdown",
   "metadata": {},
   "source": [
    "### 1.6\n",
    "Write a program that generates a list of lists (where each element of the list is itself a list). Specifically, the generated list should consist of 2 lists: the first containing all the even numbers from `listFib`, and the second containing all the odd numbers."
   ]
  },
  {
   "cell_type": "code",
   "execution_count": 9,
   "metadata": {},
   "outputs": [
    {
     "name": "stdout",
     "output_type": "stream",
     "text": [
      "[[2, 8, 34, 144], [1, 1, 3, 5, 13, 21, 55, 89]]\n"
     ]
    }
   ],
   "source": [
    "# Solution\n",
    "listEvenOdd = [[], []]\n",
    "\n",
    "for num in listFib:\n",
    "    if num % 2 == 0:\n",
    "        listEvenOdd[0].append(num)\n",
    "    else:\n",
    "        listEvenOdd[1].append(num)\n",
    "\n",
    "\n",
    "print(listEvenOdd)"
   ]
  },
  {
   "cell_type": "markdown",
   "metadata": {},
   "source": [
    "### 1.7 (opzionale)\n",
    "Similar to point 3. Given the list `listFib` generated in step 1, for all integer numbers from $5$ to $10$, check if the number is present in the list. If it is not present, add it to the list while maintaining the ascending order of the elements. If it is present, remove it from the list. Useful methods: `remove`, `insert`. See the cell below to understand how they work."
   ]
  },
  {
   "cell_type": "code",
   "execution_count": null,
   "metadata": {},
   "outputs": [],
   "source": [
    "# Hint\n",
    "list = [10, 20, 30, 40, 60]\n",
    "list.insert(1, 13) # Insert the number 13 at index position 1 \n",
    "print(list)\n",
    "\n",
    "list.remove(30) # Remove the number 30\n",
    "print(list)"
   ]
  },
  {
   "cell_type": "code",
   "execution_count": null,
   "metadata": {},
   "outputs": [],
   "source": [
    "# Solution\n"
   ]
  },
  {
   "cell_type": "markdown",
   "metadata": {},
   "source": [
    "## Exercise 2 (dictionaries)\n",
    "Dictionaries are similar to HashMaps in Java and function in the same way. [Here](http://introtopython.org/dictionaries.html) you can find an excellent gradual introduction. They are used very frequently, so it's important to know how to manipulate them.\n",
    "\n",
    "### Very Quick Introduction."
   ]
  },
  {
   "cell_type": "code",
   "execution_count": 17,
   "metadata": {},
   "outputs": [
    {
     "name": "stdout",
     "output_type": "stream",
     "text": [
      "{'Manno': 1318, 'Bioggio': 2648, 'Lugano': 63932}\n"
     ]
    }
   ],
   "source": [
    "pop = dict() # Create an empty dictionary\n",
    "pop[\"Manno\"] = 1318 # Add key-value pair\n",
    "pop[\"Bioggio\"] = 2648\n",
    "pop[\"Lugano\"] = 63932\n",
    "# Equivalent:\n",
    "# pop = {\"Manno\" : 1318, \"Bioggio\" : 2648, \"Lugano\" : 63932}\n",
    "print(pop)"
   ]
  },
  {
   "cell_type": "code",
   "execution_count": 19,
   "metadata": {},
   "outputs": [
    {
     "name": "stdout",
     "output_type": "stream",
     "text": [
      "1318\n",
      "dict_keys(['Manno', 'Bioggio', 'Lugano'])\n",
      "True\n"
     ]
    }
   ],
   "source": [
    "print(pop[\"Manno\"]) # Query\n",
    "print(pop.keys()) # All keys: behaves like a list\n",
    "print(\"Lugano\" in pop.keys())"
   ]
  },
  {
   "cell_type": "code",
   "execution_count": 20,
   "metadata": {},
   "outputs": [
    {
     "name": "stdout",
     "output_type": "stream",
     "text": [
      "dict_items([('Manno', 1318), ('Bioggio', 2648), ('Lugano', 63932)])\n"
     ]
    }
   ],
   "source": [
    "print(pop.items()) # Returns a list of tuples, each containing two elements: key and value\n",
    "# To be precise, it is not a list, but an object that can be iterated as if it were a list"
   ]
  },
  {
   "cell_type": "code",
   "execution_count": 21,
   "metadata": {},
   "outputs": [
    {
     "name": "stdout",
     "output_type": "stream",
     "text": [
      "Key=Manno, Value=1318\n",
      "Key=Bioggio, Value=2648\n",
      "Key=Lugano, Value=63932\n"
     ]
    }
   ],
   "source": [
    "for tuple in pop.items(): # each element of the list-like object above\n",
    "    k = tuple[0]\n",
    "    v = tuple[1]\n",
    "    print(f\"Key={k}, Value={v}\")"
   ]
  },
  {
   "cell_type": "code",
   "execution_count": 22,
   "metadata": {},
   "outputs": [
    {
     "name": "stdout",
     "output_type": "stream",
     "text": [
      "Key=Manno, Value=1318\n",
      "Key=Bioggio, Value=2648\n",
      "Key=Lugano, Value=63932\n"
     ]
    }
   ],
   "source": [
    "# Even better (uses a very convenient function known as tuple unpacking)\n",
    "for tuple in pop.items():\n",
    "    k, v = tuple # assigns the first and second elements of tuple to k and v respectively\n",
    "    print(f\"Key={k}, Value={v}\")"
   ]
  },
  {
   "cell_type": "code",
   "execution_count": null,
   "metadata": {},
   "outputs": [],
   "source": [
    "# Even better\n",
    "for k, v in pop.items():\n",
    "    print(f\"Key={k}, Value={v}\")"
   ]
  },
  {
   "cell_type": "markdown",
   "metadata": {},
   "source": [
    "### 2.1\n",
    "Create a dictionary with at least 5 elements (generated as you like) where each person's name is associated with their age (specifically, each dictionary element should have the person's name as the key and their age as the value)."
   ]
  },
  {
   "cell_type": "code",
   "execution_count": null,
   "metadata": {},
   "outputs": [],
   "source": [
    "# Solution\n",
    "nameAge = dict()\n",
    "nameAge[\"Nicola\"] = 25\n",
    "nameAge[\"Riccardo\"] = 18\n",
    "nameAge[\"Viola\"] = 27\n",
    "nameAge[\"Renato\"] = 12\n",
    "nameAge[\"Alice\"] = 31\n",
    "\n",
    "print(nameAge)"
   ]
  },
  {
   "cell_type": "markdown",
   "metadata": {},
   "source": [
    "### 2.2\n",
    "Given a new list of names, print the string `\"{name} is {age} years old\"` (e.g., \"Luca is 22 years old\") for each name present in the dictionary. If the name is not in the dictionary, print `\"{name} is not present in the dictionary\"` (e.g., \"Antonio is not present in the dictionary\").\n",
    "\n",
    "Help: To create an iterable with the keys of a dictionary, use the dictionary's `keys()` method (see the cell below for an example)."
   ]
  },
  {
   "cell_type": "code",
   "execution_count": 33,
   "metadata": {},
   "outputs": [
    {
     "name": "stdout",
     "output_type": "stream",
     "text": [
      "Tree\n",
      "Flower\n"
     ]
    }
   ],
   "source": [
    "# Hint\n",
    "dictionary = {\"Tree\": (\"trunk\", \"branches\"), \"Flower\": (\"stem\", \"petal\")}\n",
    "for name in dictionary.keys():\n",
    "    print(name)"
   ]
  },
  {
   "cell_type": "code",
   "execution_count": 24,
   "metadata": {},
   "outputs": [
    {
     "name": "stdout",
     "output_type": "stream",
     "text": [
      "{'Nicola': 25, 'Riccardo': 18, 'Viola': 27, 'Renato': 12, 'Alice': 31}\n"
     ]
    }
   ],
   "source": [
    "# Solution\n",
    "nameAge = dict()\n",
    "nameAge[\"Nicola\"] = 25\n",
    "nameAge[\"Riccardo\"] = 18\n",
    "nameAge[\"Viola\"] = 27\n",
    "nameAge[\"Renato\"] = 12\n",
    "nameAge[\"Alice\"] = 31\n",
    "\n",
    "print(nameAge)"
   ]
  },
  {
   "cell_type": "markdown",
   "metadata": {},
   "source": [
    "### 2.3\n",
    "Write a program that, for each element of the dictionary, prints the following string `{name} is {age} years old`.\n",
    "\n",
    "Help: To access the elements of the dictionary one by one (considering the `key, value` pairs), use the `items()` method as shown above and in the example below."
   ]
  },
  {
   "cell_type": "code",
   "execution_count": 26,
   "metadata": {},
   "outputs": [
    {
     "name": "stdout",
     "output_type": "stream",
     "text": [
      "Nicola 25\n",
      "Riccardo 18\n",
      "Viola 27\n",
      "Renato 12\n",
      "Alice 31\n"
     ]
    }
   ],
   "source": [
    "# Hint\n",
    "\n",
    "for name, age in nameAge.items():\n",
    "    print(f\"{name} {age}\")"
   ]
  },
  {
   "cell_type": "code",
   "execution_count": 27,
   "metadata": {},
   "outputs": [
    {
     "name": "stdout",
     "output_type": "stream",
     "text": [
      "Nicola is 25 years old\n",
      "Riccardo is 18 years old\n",
      "Viola is 27 years old\n",
      "Renato is 12 years old\n",
      "Alice is 31 years old\n"
     ]
    }
   ],
   "source": [
    "# Solution\n",
    "for name, age in nameAge.items():\n",
    "    print(f\"{name} is {age} years old\")"
   ]
  },
  {
   "cell_type": "markdown",
   "metadata": {},
   "source": [
    "### 2.4\n",
    "Create a new dictionary that contains all the elements from the previous dictionary with ages between 23 years (inclusive) and 60 years (exclusive)."
   ]
  },
  {
   "cell_type": "code",
   "execution_count": 30,
   "metadata": {},
   "outputs": [
    {
     "name": "stdout",
     "output_type": "stream",
     "text": [
      "{'Nicola': 25, 'Viola': 27, 'Alice': 31}\n"
     ]
    }
   ],
   "source": [
    "# Solution\n",
    "nameAgeRanged = dict()\n",
    "\n",
    "for k, v in nameAge.items():\n",
    "    if (v >= 23) and (v <= 60):\n",
    "        nameAgeRanged[k] = v\n",
    "\n",
    "print(nameAgeRanged)"
   ]
  },
  {
   "cell_type": "markdown",
   "metadata": {},
   "source": [
    "## Esercizio 3 (strings)"
   ]
  },
  {
   "cell_type": "markdown",
   "metadata": {},
   "source": [
    "### 3.1\n",
    "Write a Python program that asks the user to input a sentence with at least 10 words. For simplicity, the sentence should not contain punctuation. Example of a sentence the user might enter: \"Today is a beautiful day Tomorrow will be a wonderful day\". Useful command to input a string from the command line: `input`.\n",
    "\n",
    "Once the sentence is entered, write a program that counts:\n",
    "- The number of words in the sentence. Useful command to create a list by splitting the string into words: `split` ([documentation](https://docs.python.org/3.6/library/stdtypes.html#str.split)).\n",
    "- The number of occurrences of each word in the sentence. Specifically, create a dictionary where the key is the word, and the value is the number of occurrences of that word. The count should be case-insensitive.\n",
    "- The number of occurrences of each letter in the sentence. Specifically, create a dictionary similar to the one above. The count should be case-insensitive.\n",
    "\n",
    "The cell below shows how the `input` and `split` commands work."
   ]
  },
  {
   "cell_type": "code",
   "execution_count": null,
   "metadata": {},
   "outputs": [],
   "source": [
    "# Hint\n",
    "string = input(\"Enter a sentence: \")\n",
    "words = string.split()\n",
    "print(words)"
   ]
  },
  {
   "cell_type": "code",
   "execution_count": 11,
   "metadata": {},
   "outputs": [
    {
     "name": "stdout",
     "output_type": "stream",
     "text": [
      "The number of words present in the sentence are: 7\n",
      "{'Diocanan': 1, 'de': 1, 'dio': 1, 'me': 1, 'piacciono': 1, 'le': 1, 'banane': 1}\n",
      "{'D': 1, 'i': 4, 'o': 4, 'c': 3, 'a': 5, 'n': 5, 'd': 2, 'e': 4, 'm': 1, 'p': 1, 'l': 1, 'b': 1}\n"
     ]
    }
   ],
   "source": [
    "# Solution\n",
    "wordOccurance = dict()\n",
    "lettereOccurance = dict()\n",
    "letters = []\n",
    "\n",
    "\n",
    "string = input(\"Enter a sentence: \")\n",
    "string.lower()\n",
    "words = string.split()\n",
    "\n",
    "\n",
    "\n",
    "for word in words:\n",
    "    if word not in wordOccurance:\n",
    "        wordOccurance[word] = 1\n",
    "    else:\n",
    "        wordOccurance[word] += 1\n",
    "    for letter in word:\n",
    "        letters.append(letter)\n",
    "\n",
    "for letter in letters:\n",
    "    if letter not in lettereOccurance:\n",
    "        lettereOccurance[letter] = 1\n",
    "    else:\n",
    "        lettereOccurance[letter] += 1\n",
    "\n",
    "print(f\"The number of words present in the sentence are: {len(words)}\")\n",
    "print(wordOccurance)\n",
    "print(lettereOccurance)\n"
   ]
  },
  {
   "cell_type": "markdown",
   "metadata": {},
   "source": [
    "### 3.2 (optional)\n",
    "Write a Python program that, given a string (without punctuation), generates a new string by removing any duplicate words. The comparison for duplicate words should be case-insensitive. Useful command to create a string from a list: `join` [documentation](https://docs.python.org/3.6/library/stdtypes.html#str.join)."
   ]
  },
  {
   "cell_type": "code",
   "execution_count": null,
   "metadata": {},
   "outputs": [],
   "source": [
    "# Hint\n",
    "wordList = ['hello', 'to', 'everyone']\n",
    "string = \" \".join(wordList)\n",
    "print(string)"
   ]
  },
  {
   "cell_type": "code",
   "execution_count": null,
   "metadata": {},
   "outputs": [],
   "source": [
    "# Solution\n"
   ]
  },
  {
   "cell_type": "markdown",
   "metadata": {},
   "source": [
    "## Exercise 4 (optional)\n",
    "\n",
    "Write a Python program that reads a text file and calculates the number of words of each length present in the file.\n",
    "\n",
    "For example, the string \"This is the Data Science lecture\" contains:\n",
    "- 0 words of length 1\n",
    "- 1 word of length 2\n",
    "- 1 word of length 3\n",
    "- 2 words of length 4\n",
    "- 0 words of length 5\n",
    "- 0 words of length 6\n",
    "- 2 words of length 7\n",
    "\n",
    "Then try using [this file](https://raw.githubusercontent.com/google/snappy/main/testdata/alice29.txt).\n"
   ]
  },
  {
   "cell_type": "code",
   "execution_count": null,
   "metadata": {
    "tags": []
   },
   "outputs": [],
   "source": [
    "# Hint: iterate over file lines\n",
    "# f = open(\"demofile.txt\", \"r\")\n",
    "# for x in f:\n",
    "#   print(x)"
   ]
  }
 ],
 "metadata": {
  "kernelspec": {
   "display_name": "Python 3 (ipykernel)",
   "language": "python",
   "name": "python3"
  },
  "language_info": {
   "codemirror_mode": {
    "name": "ipython",
    "version": 3
   },
   "file_extension": ".py",
   "mimetype": "text/x-python",
   "name": "python",
   "nbconvert_exporter": "python",
   "pygments_lexer": "ipython3",
   "version": "3.12.6"
  },
  "widgets": {
   "application/vnd.jupyter.widget-state+json": {
    "state": {},
    "version_major": 2,
    "version_minor": 0
   }
  }
 },
 "nbformat": 4,
 "nbformat_minor": 4
}
