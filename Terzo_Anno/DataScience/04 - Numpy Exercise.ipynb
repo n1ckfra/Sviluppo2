{
 "cells": [
  {
   "cell_type": "markdown",
   "metadata": {},
   "source": [
    "# Numpy Exercise"
   ]
  },
  {
   "cell_type": "markdown",
   "metadata": {},
   "source": [
    "## Instructions\n",
    "The same instructions from previous exercises apply.\n",
    "\n",
    "Write the Python program in the cell below the text of the exercise (or create a new one). Always print the final result to the screen to verify the correctness of the exercise. Sometimes, we provide some important concepts in a code cell below the exercise text, try running it and modify it if necessary to ensure you understand the required concepts.\n",
    "\n",
    "## Submission\n",
    "The same rules from previous exercises apply.\n",
    "\n",
    "It is mandatory to **submit the solution for all exercises** (except for those marked as optional) **before the beginning of the next lesson** in the appropriate assignment on iCorsi. To submit:\n",
    "- Run the entire notebook from scratch (`Kernel -> Restart & Run All`) and ensure that the solutions are as expected;\n",
    "- Export the notebook in HTML format (`File -> Download as...`) and submit the resulting file.\n",
    "\n",
    "If you were unable to complete one or more exercises, describe the problem encountered and **still submit the file with the rest of the solutions**.\n"
   ]
  },
  {
   "cell_type": "code",
   "execution_count": 1,
   "metadata": {},
   "outputs": [],
   "source": [
    "# Import packaged for later usage\n",
    "import pandas as pd\n",
    "import numpy as np\n",
    "import os"
   ]
  },
  {
   "cell_type": "markdown",
   "metadata": {},
   "source": [
    "## Exercise 0\n",
    "Various warmup exercises\n",
    "\n",
    "- Create a 1D array with values ranging from 10 to 49 (use `np.arange`, find its docs!)\n",
    "- Create a 5x5 array with random values and find the minimum and maximum values (use `np.random.rand`, `np.min`, `np.max`)\n",
    "- Create a 2D array with 1 on the border and 0 inside\n",
    "- Write a function that takes a 1D array as input, and returns a new array that is the same as the previous, but includes a 0 at the first and last element.  E.g. `[1,2,3]` becomes `[0,1,2,3,0]`\n",
    "- Same as above, but take a parameter `n` which indicates how many zeros to place.\n",
    "- Create an 8x8 boolean array and fill it with a checkerboard pattern\n",
    "- Given a 1D array of numbers, return a new array that contains the same values, except that all values between 5 and 8 (inclusive) will be negated.  E.g. `[-1,3,6,9,5]` becomes `[-1,3,-6,9,-5]`\n",
    "- Given a 1D array of numbers `a` and a number `x`, return the index of the element in `a` that is closest to `x`. E.g. `a=[-1,3,6,9,5], x=2` returns `1`, because `a[1]=3` is closest to `2`."
   ]
  },
  {
   "cell_type": "code",
   "execution_count": null,
   "metadata": {},
   "outputs": [],
   "source": [
    "# Solution 0\n"
   ]
  },
  {
   "cell_type": "markdown",
   "metadata": {},
   "source": [
    "## Exercise 1\n",
    "\n",
    "Let's consider the online dating profiles dataset, which we mentioned in class.\n",
    "\n",
    "Download the zip files from [this link](https://github.com/rudeboybert/JSE_OkCupid), unzip them, and place the files `profiles_revised.csv` and `essays_revised_and_shuffled.csv` in a `data` subdirectory in the current directory. Then, run the following cell, which uses the pandas library (which we will cover in detail later) to parse the CSV."
   ]
  },
  {
   "cell_type": "markdown",
   "metadata": {},
   "source": [
    "The current directory, where we expect to find the file, is this:"
   ]
  },
  {
   "cell_type": "code",
   "execution_count": null,
   "metadata": {},
   "outputs": [],
   "source": [
    "print(os.getcwd()+\"/data\")"
   ]
  },
  {
   "cell_type": "code",
   "execution_count": 5,
   "metadata": {},
   "outputs": [],
   "source": [
    "df = pd.read_csv(\"data/profiles_revised.csv\")\n",
    "age = df[\"age\"].values\n",
    "sex = df[\"sex\"].values\n",
    "\n",
    "dfe = pd.read_csv(\"data/essays_revised_and_shuffled.csv\")\n",
    "essay = dfe[\"essay0\"].values"
   ]
  },
  {
   "cell_type": "markdown",
   "metadata": {},
   "source": [
    "### 1.1\n",
    "\n",
    "Read the [codebook](https://github.com/rudeboybert/JSE_OkCupid/blob/master/okcupid_codebook_revised.txt) for the dataset, focusing on the three columns \"age\", \"sex\", and \"essay0\".\n",
    "\n",
    "Explain the type of the `age`, `sex`, and `essay` arrays; visualize some elements from them."
   ]
  },
  {
   "cell_type": "code",
   "execution_count": null,
   "metadata": {
    "scrolled": true
   },
   "outputs": [],
   "source": [
    "# Solution 1.1\n"
   ]
  },
  {
   "cell_type": "markdown",
   "metadata": {},
   "source": [
    "### 1.2\n",
    "\n",
    "Analyze the arrays with the numpy methods you know and answer the following questions:\n",
    "- What is the average, minimum, and maximum age of the users?\n",
    "- How many are male, and how many are female?\n",
    "- Does the average age of males differ significantly from the average age of females?\n",
    "- How long are their introductions on average?\n",
    "- Show the longest introduction.\n",
    "- Can we determine if males tend to write more compared to females?"
   ]
  },
  {
   "cell_type": "code",
   "execution_count": null,
   "metadata": {},
   "outputs": [],
   "source": [
    "# Solution 1.2\n"
   ]
  },
  {
   "cell_type": "markdown",
   "metadata": {},
   "source": [
    "## Exercise 2"
   ]
  },
  {
   "cell_type": "markdown",
   "metadata": {},
   "source": [
    "### 2.1\n",
    "Write a function `primeNumbers(N)` that takes as an (optional) input argument an integer `N` (default value `N=1000`) and returns an array with all prime numbers less than or equal to `N` (neither 0 nor 1 should be considered)."
   ]
  },
  {
   "cell_type": "code",
   "execution_count": null,
   "metadata": {},
   "outputs": [],
   "source": [
    "# Solution 2.1\n"
   ]
  },
  {
   "cell_type": "markdown",
   "metadata": {},
   "source": [
    "### 2.2\n",
    "Write a function `createMyDictionary(N)` that takes as an (optional) input argument an integer `N` (default value `N=1000`) and returns a dictionary with two elements. The first element has the key \"middle\", associated with an array of all prime numbers between $\\frac{1}{4}N$ e $\\frac{3}{4}N$ (inclusive). The second element has the key \"extremes\" and contains the remaining prime numbers less than $N$. Hint: Use the previously created function `primeNumbers(N)`."
   ]
  },
  {
   "cell_type": "code",
   "execution_count": null,
   "metadata": {},
   "outputs": [],
   "source": [
    "# Hint\n",
    "\n",
    "# Remember that the logical AND (or OR) between 2 Boolean variables (or Boolean arrays)\n",
    "# is performed in Python using the operator `&` (or `|` respectively)\n",
    "\n",
    "array1 = np.array(np.arange(10))\n",
    "print(f\"array1: {array1}\")\n",
    "\n",
    "mask1 = (array1 > 2) & (array1 < 8)\n",
    "print(\"mask1: \", mask1)\n",
    "\n",
    "mask2 = (array1[0:3] == 2) | (array1[0:3] == 1)\n",
    "print(\"mask2: \", mask2)"
   ]
  },
  {
   "cell_type": "code",
   "execution_count": null,
   "metadata": {},
   "outputs": [],
   "source": [
    "# Solution 2.2\n"
   ]
  }
 ],
 "metadata": {
  "kernelspec": {
   "display_name": "Python 3 (ipykernel)",
   "language": "python",
   "name": "python3"
  },
  "language_info": {
   "codemirror_mode": {
    "name": "ipython",
    "version": 3
   },
   "file_extension": ".py",
   "mimetype": "text/x-python",
   "name": "python",
   "nbconvert_exporter": "python",
   "pygments_lexer": "ipython3",
   "version": "3.10.12"
  },
  "widgets": {
   "application/vnd.jupyter.widget-state+json": {
    "state": {},
    "version_major": 2,
    "version_minor": 0
   }
  }
 },
 "nbformat": 4,
 "nbformat_minor": 4
}
